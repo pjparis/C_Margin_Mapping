{
 "cells": [
  {
   "cell_type": "markdown",
   "metadata": {},
   "source": [
    "<h3>CMM Sample Data Principal Components Analysis - Results and Interpretation</h3>"
   ]
  },
  {
   "cell_type": "markdown",
   "metadata": {},
   "source": [
    "<h4>Initial Data Load:</h4>"
   ]
  },
  {
   "cell_type": "code",
   "execution_count": 1,
   "metadata": {
    "ExecuteTime": {
     "end_time": "2017-01-17T14:58:07.527779",
     "start_time": "2017-01-17T14:58:07.316380"
    },
    "collapsed": true
   },
   "outputs": [],
   "source": [
    "fpath='/Users/paulp/GoogleDrive/projects/ContinentalMarginMapping/data/GCS_EDA_sampling/'\n",
    "file='CMM_20krandompnts.csv'\n",
    "\n",
    "df = pd.read_csv(fpath+file, names=['ID','CrustThk','Elevation','Magnetic','Gravity','gForms'], skiprows=1).dropna()"
   ]
  },
  {
   "cell_type": "markdown",
   "metadata": {},
   "source": [
    "<h4>Data Preprocessing:</h4>"
   ]
  },
  {
   "cell_type": "code",
   "execution_count": 2,
   "metadata": {
    "ExecuteTime": {
     "end_time": "2017-01-17T14:58:10.483723",
     "start_time": "2017-01-17T14:58:09.828096"
    },
    "collapsed": false
   },
   "outputs": [
    {
     "name": "stdout",
     "output_type": "stream",
     "text": [
      "Standardized Covariance Matrix:\n",
      " [[ 1.00005175 -0.90563622 -0.01321336  0.92149715]\n",
      " [-0.90563622  1.00005175  0.00943652 -0.97859544]\n",
      " [-0.01321336  0.00943652  1.00005175 -0.00664968]\n",
      " [ 0.92149715 -0.97859544 -0.00664968  1.00005175]]\n"
     ]
    }
   ],
   "source": [
    "# import the scikit PCA, Standardizer, and Matplotlib plotting handlers:\n",
    "from sklearn.decomposition import PCA\n",
    "from sklearn.preprocessing import StandardScaler\n",
    "from matplotlib import pyplot as plt\n",
    "\n",
    "%matplotlib inline\n",
    "\n",
    "# build the arrays needed for PCA and other machine analysis from the df:\n",
    "X = df.ix[:,1:5]      # extract the fields in df that will participate in the PCA\n",
    "y = df.ix[:,5]        # extract the geomorphon type classifier field only\n",
    "\n",
    "# standardize (mean=0, sd=1) the X array prior to generating covariance matrix:\n",
    "X_std = StandardScaler().fit_transform(X)\n",
    "\n",
    "# generate the covariance matrix from the standardized X data:\n",
    "# NOTE that you could also run the PCA on the correlation matrix of X (same thing, right?)\n",
    "X_cov = np.cov(X_std.T)\n",
    "print('Standardized Covariance Matrix:\\n', X_cov)"
   ]
  },
  {
   "cell_type": "markdown",
   "metadata": {},
   "source": [
    "<h4>'Fit' the PCA Model:</h4>"
   ]
  },
  {
   "cell_type": "code",
   "execution_count": 4,
   "metadata": {
    "ExecuteTime": {
     "end_time": "2017-01-17T15:02:42.269480",
     "start_time": "2017-01-17T15:02:42.109978"
    },
    "collapsed": false
   },
   "outputs": [
    {
     "name": "stdout",
     "output_type": "stream",
     "text": [
      "Results:\n",
      "\n",
      "Eigenvectors:\n",
      " [[-0.56824898  0.0010699  -0.81815639  0.08781836]\n",
      " [ 0.58023344 -0.00578616 -0.4740883  -0.66222047]\n",
      " [ 0.00901297  0.99994526 -0.00468264  0.00251241]\n",
      " [-0.58338753  0.00865151  0.32532826 -0.74414089]]\n",
      "\n",
      "Eigenvalues:\n",
      " [ 2.87089545  0.99987373  0.10877096  0.02045986]\n",
      "\n",
      "Variance explained by each principal component:\n",
      " [ 0.71772386  0.24996843  0.02719274  0.00511496]\n",
      "\n",
      "Percentage of variance explained by each principal component:\n",
      " [ 71.77238635  24.99684329   2.71927398   0.51149639]\n",
      "\n",
      "Cumulative percentage variance explained by each principal component:\n",
      " [  71.77238635   96.76922964   99.48850361  100.        ]\n"
     ]
    }
   ],
   "source": [
    "Y = PCA(n_components=4).fit(X_std)\n",
    "\n",
    "e_vecs = Y.components_.T                 # the eigenvectors (transposing places vec components in single list)\n",
    "e_vals = Y.explained_variance_           # the eigenvalues\n",
    "\n",
    "print('Results:\\n')\n",
    "print('Eigenvectors:\\n', e_vecs)\n",
    "print('')\n",
    "print('Eigenvalues:\\n', e_vals)\n",
    "print('')\n",
    "print('Variance explained by each principal component:\\n', Y.explained_variance_ratio_)\n",
    "print('')\n",
    "print('Percentage of variance explained by each principal component:\\n', Y.explained_variance_ratio_ * 100)\n",
    "print('')\n",
    "print('Cumulative percentage variance explained by each principal component:\\n', np.cumsum(Y.explained_variance_ratio_*100))"
   ]
  },
  {
   "cell_type": "markdown",
   "metadata": {
    "ExecuteTime": {
     "end_time": "2017-01-17T15:00:27.824452",
     "start_time": "2017-01-17T15:00:27.815057"
    }
   },
   "source": [
    "<h4>Creating the Scree Plot for the Computed Principal Components:</h4>"
   ]
  },
  {
   "cell_type": "code",
   "execution_count": 5,
   "metadata": {
    "ExecuteTime": {
     "end_time": "2017-01-17T15:02:46.695727",
     "start_time": "2017-01-17T15:02:46.258559"
    },
    "collapsed": false
   },
   "outputs": [
    {
     "data": {
      "image/png": "[encoded data removed]",
      "text/plain": [
       "<matplotlib.figure.Figure at 0x1155f6550>"
      ]
     },
     "metadata": {},
     "output_type": "display_data"
    }
   ],
   "source": [
    "# Creating the scree plot, or something similar, as a visual aid in distinguishing between significant and not-significant\n",
    "# principal components...\n",
    "\n",
    "npc = range(1, Y.n_components_+1)   # Y.n_components_ was computed earlier as part of the PCA model fit...\n",
    "\n",
    "with plt.style.context('seaborn-whitegrid'):\n",
    "    plt.plot(npc, np.cumsum(Y.explained_variance_ratio_), label='Cumulative Component Variance')\n",
    "    plt.bar(npc, Y.explained_variance_ratio_, alpha = 0.5, align='center',label='Individual Component Variance')\n",
    "    plt.xticks([1,2,3,4])\n",
    "    plt.xlabel('Principal Component')\n",
    "    plt.ylabel('Explained Variance')\n",
    "    plt.legend(loc='best')\n",
    "    plt.tight_layout()\n",
    "    plt.show()"
   ]
  },
  {
   "cell_type": "code",
   "execution_count": 8,
   "metadata": {
    "ExecuteTime": {
     "end_time": "2017-01-17T15:07:46.164096",
     "start_time": "2017-01-17T15:07:46.152821"
    },
    "collapsed": false
   },
   "outputs": [
    {
     "name": "stdout",
     "output_type": "stream",
     "text": [
      "To retain a variance accountability level of 95%, you should retain the first 2 principal components\n"
     ]
    }
   ],
   "source": [
    "### if we want to preserve explanation for 95% of the variance measured in the original data (X), we require p\n",
    "### principal components to be retained...\n",
    "\n",
    "print('To retain a variance accountability level of 95%, you should retain the first', PCA(0.965).fit(X_std).n_components_, 'principal components')\n"
   ]
  },
  {
   "cell_type": "markdown",
   "metadata": {},
   "source": [
    "<h4>Interpreting the Initial Results:</h4>"
   ]
  },
  {
   "cell_type": "markdown",
   "metadata": {},
   "source": [
    "__Variance Accounting:__\n",
    "- Principal Component 1:  71.8%\n",
    "- Principal Component 2:  25%\n",
    "- Principal Component 3:  2.7%\n",
    "- Principal Component 4:  0.5%\n",
    "\n",
    "Principal components 1 and 2 account for ~72 and 25 percent, respectively, or in total about 97% of the variance in the original data. The remaining components, 3 and 4, account for less than 3%, so we can (IMHO) safely discard these two \n",
    "components, and focus all further attention on interpreting PC1 and PC2..."
   ]
  },
  {
   "cell_type": "markdown",
   "metadata": {},
   "source": [
    "<h4>Further Interpretation(s) - Plot the Principal Component Loadings:</h4>"
   ]
  },
  {
   "cell_type": "code",
   "execution_count": 56,
   "metadata": {
    "ExecuteTime": {
     "end_time": "2017-01-17T16:57:41.825035",
     "start_time": "2017-01-17T16:57:40.706556"
    },
    "collapsed": false,
    "run_control": {
     "marked": false
    }
   },
   "outputs": [
    {
     "data": {
      "image/png": "[encoded data removed]",
      "text/plain": [
       "<matplotlib.figure.Figure at 0x117e570b8>"
      ]
     },
     "metadata": {},
     "output_type": "display_data"
    }
   ],
   "source": [
    "# The Principal Component Loadings map the Eigenvector coefficients back to the original variables in the data set. This\n",
    "# then helps to ascertain and interpret the contribution of the original data to each principal component \n",
    "# (Eigenvector, Eignevalue set)\n",
    "\n",
    "# the original variables: ['X1', 'X2', 'X3', 'X4' ]  map to crustal thkness, elevation, magnetism, and gravity, respectively\n",
    "# the Eigenvectors are retrieved from the model as the components_: Y.components_.T\n",
    "#\n",
    "fig, ((ax1,ax2), (ax3,ax4)) = plt.subplots(nrows=2, ncols=2)\n",
    "\n",
    "e_vecs = Y.components_.T \n",
    "\n",
    "# Set the ticks and ticklabels for all axes\n",
    "plt.setp(((ax1,ax2), (ax3,ax4)), xticks=[1,2,3,4], xticklabels=['Cr Thk', 'Elev', 'Mag', 'Grav' ], xlabel=('Raw Data'))\n",
    "\n",
    "ax1.bar([1, 2, 3, 4 ], e_vecs[0], width=0.5, align='center' )\n",
    "ax1.set_ylabel('PC1')\n",
    "\n",
    "ax2.bar([1, 2, 3, 4 ], e_vecs[1], width=0.5, align='center' )\n",
    "ax2.set_ylabel('PC2')\n",
    "\n",
    "ax3.bar([1, 2, 3, 4 ], e_vecs[2], width=0.5, align='center' )\n",
    "ax3.set_ylabel('PC3')\n",
    "\n",
    "ax4.bar([1, 2, 3, 4 ], e_vecs[3], width=0.5, align='center' )\n",
    "ax4.set_ylabel('PC4')\n",
    "\n",
    "fig.tight_layout()\n",
    "plt.show()"
   ]
  },
  {
   "cell_type": "code",
   "execution_count": 19,
   "metadata": {
    "ExecuteTime": {
     "end_time": "2017-01-17T15:43:06.326017",
     "start_time": "2017-01-17T15:43:06.311913"
    },
    "collapsed": false
   },
   "outputs": [
    {
     "data": {
      "text/plain": [
       "array([[-0.56824898,  0.0010699 , -0.81815639,  0.08781836],\n",
       "       [ 0.58023344, -0.00578616, -0.4740883 , -0.66222047],\n",
       "       [ 0.00901297,  0.99994526, -0.00468264,  0.00251241],\n",
       "       [-0.58338753,  0.00865151,  0.32532826, -0.74414089]])"
      ]
     },
     "execution_count": 19,
     "metadata": {},
     "output_type": "execute_result"
    }
   ],
   "source": [
    "Y.components_.T"
   ]
  }
 ],
 "metadata": {
  "anaconda-cloud": {},
  "kernelspec": {
   "display_name": "Python [conda root]",
   "language": "python",
   "name": "conda-root-py"
  },
  "language_info": {
   "codemirror_mode": {
    "name": "ipython",
    "version": 3
   },
   "file_extension": ".py",
   "mimetype": "text/x-python",
   "name": "python",
   "nbconvert_exporter": "python",
   "pygments_lexer": "ipython3",
   "version": "3.5.2"
  },
  "latex_envs": {
   "bibliofile": "biblio.bib",
   "cite_by": "apalike",
   "current_citInitial": 1,
   "eqLabelWithNumbers": true,
   "eqNumInitial": 0
  },
  "toc": {
   "nav_menu": {
    "height": "153px",
    "width": "252px"
   },
   "navigate_menu": true,
   "number_sections": true,
   "sideBar": true,
   "threshold": 4,
   "toc_cell": false,
   "toc_section_display": "block",
   "toc_window_display": false
  }
 },
 "nbformat": 4,
 "nbformat_minor": 1
}
