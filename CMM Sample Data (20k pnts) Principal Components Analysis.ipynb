{
 "cells": [
  {
   "cell_type": "markdown",
   "metadata": {},
   "source": [
    "<h3>CMM Sample Data Principal Components Analysis - Results and Interpretation</h3>"
   ]
  },
  {
   "cell_type": "markdown",
   "metadata": {},
   "source": [
    "__Notebook Initial Creation:__ 1/16/2017 <br>\n",
    "__Author:__ pjparis"
   ]
  },
  {
   "cell_type": "markdown",
   "metadata": {},
   "source": [
    "<h4>Initial Data Load:</h4>"
   ]
  },
  {
   "cell_type": "code",
   "execution_count": 1,
   "metadata": {
    "ExecuteTime": {
     "end_time": "2017-01-17T14:58:07.527779",
     "start_time": "2017-01-17T14:58:07.316380"
    },
    "collapsed": true
   },
   "outputs": [],
   "source": [
    "fpath='/Users/paulp/GoogleDrive/projects/ContinentalMarginMapping/data/GCS_EDA_sampling/'\n",
    "file='CMM_20krandompnts.csv'\n",
    "\n",
    "df = pd.read_csv(fpath+file, names=['ID','CrustThk','Elevation','Magnetic','Gravity','gForms'], skiprows=1).dropna()"
   ]
  },
  {
   "cell_type": "markdown",
   "metadata": {},
   "source": [
    "<h4>Data Preprocessing:</h4>"
   ]
  },
  {
   "cell_type": "code",
   "execution_count": 59,
   "metadata": {
    "ExecuteTime": {
     "end_time": "2017-01-18T10:59:45.261396",
     "start_time": "2017-01-18T10:59:45.066533"
    },
    "collapsed": false
   },
   "outputs": [
    {
     "name": "stdout",
     "output_type": "stream",
     "text": [
      "Standardized Covariance Matrix:\n",
      " [[ 1.00005175  0.90563622  0.01321336 -0.92149715]\n",
      " [ 0.90563622  1.00005175  0.00943652 -0.97859544]\n",
      " [ 0.01321336  0.00943652  1.00005175 -0.00664968]\n",
      " [-0.92149715 -0.97859544 -0.00664968  1.00005175]]\n"
     ]
    }
   ],
   "source": [
    "# import the scikit PCA, Standardizer, and Matplotlib plotting handlers:\n",
    "from sklearn.decomposition import PCA\n",
    "from sklearn.preprocessing import StandardScaler\n",
    "from matplotlib import pyplot as plt\n",
    "\n",
    "%matplotlib inline\n",
    "\n",
    "# Added 1/18/2017: multiply crustal thickness field by -1 to render these as positive values. Prior were all measured as\n",
    "# distances from sea level to base of crust (Moho) as so < 0:\n",
    "df.CrustThk = df.CrustThk* -1\n",
    "\n",
    "# build the arrays needed for PCA from the df:\n",
    "X = df.ix[:,1:5]      # extract the fields in df that will participate in the PCA\n",
    "y = df.ix[:,5]        # extract the geomorphon type classifier field only\n",
    "\n",
    "# standardize (mean=0, sd=1) the X array prior to generating covariance matrix:\n",
    "X_std = StandardScaler().fit_transform(X)\n",
    "\n",
    "# generate the covariance matrix from the standardized X data:\n",
    "# NOTE that you could also run the PCA on the correlation matrix of X (same thing, right?)\n",
    "X_cov = np.cov(X_std.T)\n",
    "print('Standardized Covariance Matrix:\\n', X_cov)"
   ]
  },
  {
   "cell_type": "markdown",
   "metadata": {},
   "source": [
    "<h4>'Fit' the PCA Model:</h4>"
   ]
  },
  {
   "cell_type": "code",
   "execution_count": 62,
   "metadata": {
    "ExecuteTime": {
     "end_time": "2017-01-18T11:00:34.931027",
     "start_time": "2017-01-18T11:00:34.903642"
    },
    "collapsed": false
   },
   "outputs": [
    {
     "name": "stdout",
     "output_type": "stream",
     "text": [
      "Results:\n",
      "\n",
      "Eigenvectors:\n",
      " [[ 0.56824898  0.0010699  -0.81815639 -0.08781836]\n",
      " [ 0.58023344  0.00578616  0.4740883  -0.66222047]\n",
      " [ 0.00901297 -0.99994526  0.00468264  0.00251241]\n",
      " [-0.58338753 -0.00865151 -0.32532826 -0.74414089]]\n",
      "\n",
      "Eigenvalues:\n",
      " [ 2.87089545  0.99987373  0.10877096  0.02045986]\n",
      "\n",
      "Variance explained by each principal component:\n",
      " [ 0.71772386  0.24996843  0.02719274  0.00511496]\n",
      "\n",
      "Percentage of variance explained by each principal component:\n",
      " [ 71.77238635  24.99684329   2.71927398   0.51149639]\n",
      "\n",
      "Cumulative percentage variance explained by each principal component:\n",
      " [  71.77238635   96.76922964   99.48850361  100.        ]\n"
     ]
    }
   ],
   "source": [
    "Y = PCA(n_components=4).fit(X_std)\n",
    "\n",
    "e_vecs = Y.components_.T                 # the eigenvectors (transposing places vec components in single list)\n",
    "e_vals = Y.explained_variance_           # the eigenvalues\n",
    "\n",
    "print('Results:\\n')\n",
    "print('Eigenvectors:\\n', e_vecs)\n",
    "print('')\n",
    "print('Eigenvalues:\\n', e_vals)\n",
    "print('')\n",
    "print('Variance explained by each principal component:\\n', Y.explained_variance_ratio_)\n",
    "print('')\n",
    "print('Percentage of variance explained by each principal component:\\n', Y.explained_variance_ratio_ * 100)\n",
    "print('')\n",
    "print('Cumulative percentage variance explained by each principal component:\\n', np.cumsum(Y.explained_variance_ratio_*100))"
   ]
  },
  {
   "cell_type": "markdown",
   "metadata": {
    "ExecuteTime": {
     "end_time": "2017-01-17T15:00:27.824452",
     "start_time": "2017-01-17T15:00:27.815057"
    }
   },
   "source": [
    "<h4>Creating the Scree Plot for the Computed Principal Components:</h4>"
   ]
  },
  {
   "cell_type": "code",
   "execution_count": 5,
   "metadata": {
    "ExecuteTime": {
     "end_time": "2017-01-17T15:02:46.695727",
     "start_time": "2017-01-17T15:02:46.258559"
    },
    "collapsed": false
   },
   "outputs": [
    {
     "data": {
      "image/png": "[encoded data removed]",
      "text/plain": [
       "<matplotlib.figure.Figure at 0x1155f6550>"
      ]
     },
     "metadata": {},
     "output_type": "display_data"
    }
   ],
   "source": [
    "# Creating the scree plot, or something similar, as a visual aid in distinguishing between significant and not-significant\n",
    "# principal components...\n",
    "\n",
    "npc = range(1, Y.n_components_+1)   # Y.n_components_ was computed earlier as part of the PCA model fit...\n",
    "\n",
    "with plt.style.context('seaborn-whitegrid'):\n",
    "    plt.plot(npc, np.cumsum(Y.explained_variance_ratio_), label='Cumulative Component Variance')\n",
    "    plt.bar(npc, Y.explained_variance_ratio_, alpha = 0.5, align='center',label='Individual Component Variance')\n",
    "    plt.xticks([1,2,3,4])\n",
    "    plt.xlabel('Principal Component')\n",
    "    plt.ylabel('Explained Variance')\n",
    "    plt.legend(loc='best')\n",
    "    plt.tight_layout()\n",
    "    plt.show()"
   ]
  },
  {
   "cell_type": "code",
   "execution_count": 63,
   "metadata": {
    "ExecuteTime": {
     "end_time": "2017-01-18T11:01:07.085502",
     "start_time": "2017-01-18T11:01:07.072508"
    },
    "collapsed": false
   },
   "outputs": [
    {
     "name": "stdout",
     "output_type": "stream",
     "text": [
      "To retain a variance accountability level of 95%, you should retain the first 2 principal components\n"
     ]
    }
   ],
   "source": [
    "### if we want to preserve explanation for 95% of the variance measured in the original data (X), we require p\n",
    "### principal components to be retained...\n",
    "\n",
    "print('To retain a variance accountability level of 95%, you should retain the first', PCA(0.965).fit(X_std).n_components_, 'principal components')\n"
   ]
  },
  {
   "cell_type": "markdown",
   "metadata": {},
   "source": [
    "<h4>Interpreting the Initial Results:</h4>"
   ]
  },
  {
   "cell_type": "markdown",
   "metadata": {},
   "source": [
    "__Variance Accounting:__\n",
    "- Principal Component 1:  71.8%\n",
    "- Principal Component 2:  25%\n",
    "- Principal Component 3:  2.7%\n",
    "- Principal Component 4:  0.5%\n",
    "\n",
    "Principal components 1 and 2 account for ~72 and 25 percent, respectively, or in total about 97% of the variance in the original data. The remaining components, 3 and 4, account for less than 3%, so we can (IMHO) safely discard these two \n",
    "components, and focus all further attention on interpreting PC1 and PC2..."
   ]
  },
  {
   "cell_type": "markdown",
   "metadata": {},
   "source": [
    "<h4>Further Interpretation(s) - Plot the Principal Component Loadings:</h4>"
   ]
  },
  {
   "cell_type": "code",
   "execution_count": 64,
   "metadata": {
    "ExecuteTime": {
     "end_time": "2017-01-18T11:02:11.478162",
     "start_time": "2017-01-18T11:02:10.547209"
    },
    "collapsed": false,
    "run_control": {
     "marked": false
    }
   },
   "outputs": [
    {
     "data": {
      "image/png": "[encoded data removed]",
      "text/plain": [
       "<matplotlib.figure.Figure at 0x117695f60>"
      ]
     },
     "metadata": {},
     "output_type": "display_data"
    }
   ],
   "source": [
    "# The Principal Component Loadings map the Eigenvector coefficients back to the original variables in the data set. This\n",
    "# then helps to ascertain and interpret the contribution of the original data to each principal component \n",
    "# (Eigenvector, Eignevalue set)\n",
    "\n",
    "# the original variables: ['X1', 'X2', 'X3', 'X4' ]  map to crustal thkness, elevation, magnetism, and gravity, respectively\n",
    "# the Eigenvectors are retrieved from the model as the components_: Y.components_.T\n",
    "#\n",
    "fig, ((ax1,ax2), (ax3,ax4)) = plt.subplots(nrows=2, ncols=2)\n",
    "\n",
    "e_vecs = Y.components_.T \n",
    "\n",
    "# Set the ticks and ticklabels for all axes\n",
    "plt.setp(((ax1,ax2), (ax3,ax4)), xticks=[1,2,3,4], xticklabels=['Cr Thk', 'Elev', 'Mag', 'Grav' ], xlabel=('Raw Data'))\n",
    "\n",
    "ax1.bar([1, 2, 3, 4 ], e_vecs[0], width=0.5, align='center' )\n",
    "ax1.set_ylabel('PC1')\n",
    "\n",
    "ax2.bar([1, 2, 3, 4 ], e_vecs[1], width=0.5, align='center' )\n",
    "ax2.set_ylabel('PC2')\n",
    "\n",
    "ax3.bar([1, 2, 3, 4 ], e_vecs[2], width=0.5, align='center' )\n",
    "ax3.set_ylabel('PC3')\n",
    "\n",
    "ax4.bar([1, 2, 3, 4 ], e_vecs[3], width=0.5, align='center' )\n",
    "ax4.set_ylabel('PC4')\n",
    "\n",
    "fig.tight_layout()\n",
    "plt.show()"
   ]
  },
  {
   "cell_type": "code",
   "execution_count": 68,
   "metadata": {
    "ExecuteTime": {
     "end_time": "2017-01-18T14:58:32.460085",
     "start_time": "2017-01-18T14:58:32.438756"
    },
    "collapsed": false
   },
   "outputs": [
    {
     "name": "stdout",
     "output_type": "stream",
     "text": [
      "Eigenvector loading acceptance threshold for 4 variables is: 0.5\n"
     ]
    }
   ],
   "source": [
    "# One rule of thumb--and there are probably many--for determining significance (that is, whether or not to consider a \n",
    "# particular loading in interpreting the principal component) of loadings is to set a threshold based on the the \n",
    "# assumption that each of the original observation variables (crustal thickness, elevation, magnetism, and gravity) \n",
    "# contributes an equal amount to the result. With this, we can use the following to compute a significance \n",
    "# (accept or ignore) threshold for the loadings (a.k.a. the Eigenvector components) in interpreting the principal components:\n",
    "\n",
    "# use the square root of 1 over the number of variables (n) in the original data:\n",
    "import math\n",
    "n = 4\n",
    "print('Eigenvector loading acceptance threshold for', n, 'variables is:', str(math.sqrt(1/n)))"
   ]
  },
  {
   "cell_type": "markdown",
   "metadata": {
    "ExecuteTime": {
     "end_time": "2017-01-17T15:43:06.326017",
     "start_time": "2017-01-17T15:43:06.311913"
    }
   },
   "source": [
    "Focusing our attention on only the first two principal components (PC1 and PC2) we see that:\n",
    "\n",
    "- for PC1 the component appears to represent the inverse relationship between crustal thickness and local/regional magnetic anomalies. Almost 72% of the variance can be attributed to crustal thickness and magnetism. Gravity and elevation are of no real significance (below the loading acceptance threshold).\n",
    "\n",
    "- for PC2 the component appears to represent once more a coupling of crustal thickness and gravity. Magnetism falls in accord with thickness, but at 0.44 is just below our loading acceptance threshold, and so we choose to ignore its influence (once which we've already accounted for in PC1. Again, elevation's role is tiny and so can be ignored. Thus, we see that the combination of crustal thickness, magnetism, and gravity account for about 97% of the variance seen in the data.\n",
    "\n",
    "- for PC3, elevation's contribution to the total system variance is noted--though it doesn't contribute very much, overall (about another 2.7%). If we consider the topo/bathy data we can account for 99% of the total variance. "
   ]
  },
  {
   "cell_type": "markdown",
   "metadata": {},
   "source": [
    "<h4>Projecting the raw data into the new PC coordinate space </h4>\n",
    "_converting the original sample observations to their principal component scores_"
   ]
  },
  {
   "cell_type": "markdown",
   "metadata": {},
   "source": [
    "The general projection is: $Yp=e_1X_1+e_2X_2+...+e_nX_n$\n",
    "\n",
    "where: <br>\n",
    "$e_i$ are the component eigenvectors (PC loadings) for each of the original measurement (sampling) variables, and <br>\n",
    "$X_i$ are the sampled variable values, standardized in this instance (e.g., $X_1$ is crustal thickness, $X_2$ is elevation)"
   ]
  },
  {
   "cell_type": "markdown",
   "metadata": {},
   "source": [
    "__Geomorphon feature type mappings:__\n",
    "- 1 Flat\n",
    "- 2 Summit\n",
    "- 3 Ridge\n",
    "- 4 Shoulder\n",
    "- 5 Spur\n",
    "- 6 Slope\n",
    "- 7 Hollow\n",
    "- 8 Footslope\n",
    "- 9 Valley\n",
    "- 10 Depression"
   ]
  },
  {
   "cell_type": "code",
   "execution_count": 82,
   "metadata": {
    "ExecuteTime": {
     "end_time": "2017-01-18T16:26:14.296622",
     "start_time": "2017-01-18T16:26:12.716215"
    },
    "collapsed": true
   },
   "outputs": [
    {
     "name": "stderr",
     "output_type": "stream",
     "text": [
      "/Users/paulp/anaconda/lib/python3.5/site-packages/ipykernel/__main__.py:8: FutureWarning: in the future, boolean array-likes will be handled as a boolean array index\n",
      "/Users/paulp/anaconda/lib/python3.5/site-packages/ipykernel/__main__.py:9: FutureWarning: in the future, boolean array-likes will be handled as a boolean array index\n"
     ]
    },
    {
     "data": {
      "image/png": "[encoded data removed]",
      "text/plain": [
       "<matplotlib.figure.Figure at 0x116ddcdd8>"
      ]
     },
     "metadata": {},
     "output_type": "display_data"
    }
   ],
   "source": [
    "# We're only going to proceed with the first two principal components PC1 and PC2\n",
    "\n",
    "Yp = PCA(n_components=4).fit_transform(X_std)  # must transform standardized, not raw, originals!\n",
    "\n",
    "with plt.style.context('seaborn-whitegrid'):\n",
    "    plt.figure(figsize=(6,4))\n",
    "    for lab, col in zip((1,4,6,8),('blue','green','red','yellow')):\n",
    "        plt.scatter(Yp[y==lab, 0],\n",
    "                    Yp[y==lab, 1],\n",
    "                    label=lab,\n",
    "                    c=col)\n",
    "    plt.xlabel('PC1')\n",
    "    plt.ylabel('PC2')\n",
    "    plt.legend(loc='best')\n",
    "    plt.tight_layout()\n",
    "    plt.show()\n"
   ]
  }
 ],
 "metadata": {
  "anaconda-cloud": {},
  "kernelspec": {
   "display_name": "Python [conda root]",
   "language": "python",
   "name": "conda-root-py"
  },
  "language_info": {
   "codemirror_mode": {
    "name": "ipython",
    "version": 3
   },
   "file_extension": ".py",
   "mimetype": "text/x-python",
   "name": "python",
   "nbconvert_exporter": "python",
   "pygments_lexer": "ipython3",
   "version": "3.5.2"
  },
  "latex_envs": {
   "bibliofile": "biblio.bib",
   "cite_by": "apalike",
   "current_citInitial": 1,
   "eqLabelWithNumbers": true,
   "eqNumInitial": 0
  },
  "toc": {
   "nav_menu": {
    "height": "171px",
    "width": "252px"
   },
   "navigate_menu": true,
   "number_sections": true,
   "sideBar": true,
   "threshold": 4,
   "toc_cell": false,
   "toc_section_display": "block",
   "toc_window_display": false
  }
 },
 "nbformat": 4,
 "nbformat_minor": 1
}
