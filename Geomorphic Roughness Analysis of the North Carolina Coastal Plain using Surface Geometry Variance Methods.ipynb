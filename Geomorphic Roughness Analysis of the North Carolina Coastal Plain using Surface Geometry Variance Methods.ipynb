{
 "cells": [
  {
   "cell_type": "markdown",
   "metadata": {},
   "source": [
    "<h3>Multi-scale Topographic Surface Roughness Analysis of the North Carolina Coastal Plain using Surface Geometry Variance Methods</h3>"
   ]
  },
  {
   "cell_type": "markdown",
   "metadata": {},
   "source": [
    "In this notebook we will further explore (carrying on from notebook: Geomorphic Roughness Analysis of the North Carolina Coastal Plain using Vector Dispersion Methods) the assumption that the coastal plain province, and coastal plains in general, present a less topographicall varied (i.e. rough) character than do the interior uplands [onto which the coastal plains abut). Here, we will look at the spatial distribution of variance in surface character (via elevation, slopes, and curvatures) that might suggest a signal to discriminate coastal plain from upland (piedmont). \n",
    "\n",
    "For information on the study area and the data see the notebook: Geomorphic Roughness Analysis of the North Carolina Coastal Plain using Vector Dispersion Methods"
   ]
  },
  {
   "cell_type": "markdown",
   "metadata": {},
   "source": [
    "**The methods:**\n",
    "\n",
    "1.  Standard Deviation of Elevation (SDz): the standard deviation of the elevation surface computed using a moving (3x3) neighborhood window\n",
    "\n",
    "2. Standard Deviation of Slope (SDs): the standard deviation of the slope surface (1st derivative of elevation) using a moving (3x3) neighborhood window\n",
    "\n",
    "3. Standard Deviation of Profile Curvature: the standard deviatioon of the profile curvature (2nd derivative of elevation) using a moving (3x3) nieghborhood window. \n",
    "\n",
    "Note that we can increase the size of the neighborhood window if desired. There seems no need to do this, however, at this writing.\n",
    "\n",
    "Also , recall that the resolution of the data used here is 100m"
   ]
  },
  {
   "cell_type": "markdown",
   "metadata": {},
   "source": [
    "<h4>Standard Deviation of Elevation (SDz):</h4>\n",
    "\n",
    "In GRASS:\n",
    "\n",
    "r.neighbors --overwrite input=Halifax_Elev_100m@user output=Halifax_SDz_100m method=stddev\n",
    "\n",
    "Normalizing:\n",
    "\n",
    "r.univar map=Halifax_SDz_100m   min=0;  max=52.7222\n",
    "\n",
    "r.mapcalc --o \"Halifax_SDznorm_100m=Halifax_SDz_100m/52.7222\"\n",
    "\n",
    "**Results:**\n",
    "    \n",
    "![SDznorm](misc/Halifax_SDznorm.png)\n",
    "\n",
    "Map depicting the normalized standard deviation of elevation for the halifax study area. The heavy NE-SW line bisecting the county is the approximate fall-line boundary.\n",
    "\n",
    "![SDznorm_profile](misc/Halifax_SDznorm_profile.png)\n",
    "\n",
    "NW-SE profile crossing from upland (Piedmont) to coastal plain. The change in profile slope (trend) across the boundary is apparent, though the actual point of transition from upland to coastal plain is far from clear. Too, perhaps there is a bit more variance (hi-frequency oscillations) in the piedmont surface than in the coastal plain, but this is far from certain. It could even be wishful thinking (be careful). "
   ]
  },
  {
   "cell_type": "markdown",
   "metadata": {},
   "source": [
    "<h4>Standard Deviation Slope (SDs):</h4>\n",
    "\n",
    "In GRASS:\n",
    "\n",
    "r.neighbors --overwrite input=Halifax_Slope_100m@user output=Halifax_SDs_100m method=stddev\n",
    "\n",
    "Normalizing:\n",
    "\n",
    "r.univar map=Halifax_SDs_100m   min=0;  max=12.2251\n",
    "\n",
    "r.mapcalc --o \"Halifax_SDsnorm_100m=Halifax_SDs_100m/12.2251\"\n",
    "\n"
   ]
  }
 ],
 "metadata": {
  "kernelspec": {
   "display_name": "Python 2",
   "language": "python",
   "name": "python2"
  },
  "language_info": {
   "codemirror_mode": {
    "name": "ipython",
    "version": 2
   },
   "file_extension": ".py",
   "mimetype": "text/x-python",
   "name": "python",
   "nbconvert_exporter": "python",
   "pygments_lexer": "ipython2",
   "version": "2.7.13"
  }
 },
 "nbformat": 4,
 "nbformat_minor": 2
}
