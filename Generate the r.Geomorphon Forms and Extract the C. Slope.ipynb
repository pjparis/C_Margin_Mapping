{
 "cells": [
  {
   "cell_type": "markdown",
   "metadata": {},
   "source": [
    "__Generate a geomorphon forms layer using the following definition and selection criterion:__<br>\n",
    "slope envelope (flatness): 0 to 0.69°<br>\n",
    "\n",
    "\n",
    "__Extract from the resultant forms a candidate continental slope based on the following selection criteria:__<br>\n",
    "depth envelope: 0 to -3,015 meters<br>\n",
    "sediment thickness envelope: >= 2,897 meters<br>\n",
    "\n",
    "slope is categorized as form type 6"
   ]
  },
  {
   "cell_type": "code",
   "execution_count": null,
   "metadata": {
    "ExecuteTime": {
     "end_time": "2016-11-30T14:16:15.779090",
     "start_time": "2016-11-30T14:16:15.768116"
    },
    "collapsed": false
   },
   "outputs": [],
   "source": [
    "### Generate the geomorphon forms and ternary layers for c. slope:\n",
    "\n",
    "# In GRASS:\n",
    "r.geomorphon elevation=ETOPO1_bathy_1km@user forms=ETOPO1_slope_gemorph_forms_1km ternary=ETOPO1_slope_geomorph_ternary_1km search=3 skip=0 flat=0.69 dist=0"
   ]
  },
  {
   "cell_type": "code",
   "execution_count": null,
   "metadata": {
    "collapsed": true
   },
   "outputs": [],
   "source": [
    "### Extract slope from the geomorph forms layer:\n",
    "\n",
    "r.mapcalc --o\n",
    "ETOPO1_cslope_1km = if( ETOPO1_slope_gemorph_forms_1km == 6 & ETOPO1_bathy_1km >= -3015 & Crust_Sed_Thkness_1km >= 2897, 6, null() )\n",
    "end"
   ]
  },
  {
   "cell_type": "code",
   "execution_count": null,
   "metadata": {
    "collapsed": true
   },
   "outputs": [],
   "source": []
  }
 ],
 "metadata": {
  "anaconda-cloud": {},
  "kernelspec": {
   "display_name": "Python [conda root]",
   "language": "python",
   "name": "conda-root-py"
  },
  "language_info": {
   "codemirror_mode": {
    "name": "ipython",
    "version": 3
   },
   "file_extension": ".py",
   "mimetype": "text/x-python",
   "name": "python",
   "nbconvert_exporter": "python",
   "pygments_lexer": "ipython3",
   "version": "3.5.2"
  },
  "latex_envs": {
   "bibliofile": "biblio.bib",
   "cite_by": "apalike",
   "current_citInitial": 1,
   "eqLabelWithNumbers": true,
   "eqNumInitial": 0
  },
  "toc": {
   "nav_menu": {
    "height": "0px",
    "width": "0px"
   },
   "navigate_menu": true,
   "number_sections": true,
   "sideBar": true,
   "threshold": 4,
   "toc_cell": false,
   "toc_section_display": "block",
   "toc_window_display": false
  }
 },
 "nbformat": 4,
 "nbformat_minor": 1
}
