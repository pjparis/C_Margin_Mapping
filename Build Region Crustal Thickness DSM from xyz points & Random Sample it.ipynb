{
 "cells": [
  {
   "cell_type": "markdown",
   "metadata": {},
   "source": [
    "**Construct a regional DSM from xyz point triads covering 1 (or more) global subregions as defined by the U.S.G.S. and Steinwand, 1994 associated with modeling the world (in its entirety) using the Interrupted Goode Homolosine (Sinusoidal component) map projection. **"
   ]
  },
  {
   "cell_type": "markdown",
   "metadata": {},
   "source": [
    "Construct a DSM of oceanic crustal sediment thicknesses for IGH Region 03 (the S. North America and Central America) using crustal sedient thickness data downloaded from NOAA's NCEI site: https://www.ngdc.noaa.gov/mgg/sedthick/index.html\n",
    "\n",
    "__Dataset:__ _Total Sediment Thickness of the World's Oceans and Marginal Seas, Version 2_   \n",
    "\n",
    "__Source Projection__ EPSG::4326\n",
    "\n",
    "__Reference:__ _Whittaker, Joanne, Alexey Goncharov, Simon Williams, R. Dietmar Müller, German Leitchenkov (2013) Global sediment thickness dataset updated for the Australian-Antarctic Southern Ocean, Geochemistry, Geophysics, Geosystems. DOI: 10.1002/ggge.20181_"
   ]
  },
  {
   "cell_type": "markdown",
   "metadata": {
    "ExecuteTime": {
     "end_time": "2016-11-23T11:27:38.124450",
     "start_time": "2016-11-23T11:27:37.781949"
    }
   },
   "source": [
    "__Region 3 geographic extents:__ 40 44'N to 0 180W to 40W Sinusoidal 100W\n",
    "\n",
    "__Region 3 projection parameters:__  proj +proj=sinu +lon_0=100W +x_0=-11119487.42847 +y_0=0.0Sinusoidal\n",
    "\n",
    "Sinusoidal Projection"
   ]
  },
  {
   "cell_type": "markdown",
   "metadata": {},
   "source": []
  },
  {
   "cell_type": "code",
   "execution_count": null,
   "metadata": {
    "collapsed": true
   },
   "outputs": [],
   "source": [
    "### using SQLite, locate and extract the data points (triads) for Region 3:\n",
    "\n",
    "bash# sqlite3 db\n",
    "> create table tbl(x real, y real, z real);\n",
    "> .separator \" \"\n",
    "> .import sedthick_world_v2.xyz tbl\n",
    "> .mode csv\n",
    "> .output sedthick_region03_v2.csv\n",
    "> select * from tbl where x > 225.0 AND x < 300.0 AND y > 15.0 AND y < 40.733333;\n",
    "> .quit"
   ]
  },
  {
   "cell_type": "code",
   "execution_count": null,
   "metadata": {
    "collapsed": true
   },
   "outputs": [],
   "source": [
    "### Project the GCS triads to Sinusoidal meters:\n",
    "\n",
    "proj +proj=sinu +lon_0=100W +x_0=-11119487.42847 +y_0=0.0 sedthick_region03_v2.gcs >sedthick_region03_v2.sin"
   ]
  },
  {
   "cell_type": "code",
   "execution_count": null,
   "metadata": {
    "collapsed": true
   },
   "outputs": [],
   "source": [
    "### Import sedthick_region03_v2.csv into GRASS:\n",
    "\n",
    "## import the point triads:\n",
    "v.in.ascii -b --overwrite input=/Users/paulp/GoogleDrive/projects/ContinentalMarginMapping/data/sedthick_region03_v2.sin output=SedThkness_xyz separator=space z=3\n",
    "\n",
    "## create a mask to restrict interpolation region:\n",
    "v.hull -f --overwrite input=SedThkness_xyz@user output=SedThkness_chull\n",
    "v.to.rast --overwrite input=SedThkness_chull@user output=SedThkness_msk_1km use=cat\n",
    "\n",
    "## interpolate to a thickness DSM:\n",
    "v.surf.rst --overwrite input=SedThkness_xyz@user elevation=SedThickness_1km mask=SedThkness_msk_1km@user npmin=160\n",
    "\n",
    "## remove the interpolated portion of the DSM that sits over land:\n",
    "r.mapcalc --o\n",
    "Crust_Sed_Thkness_1km = if( ETOPO1_bathy_1km, SedThickness_1km, null() )\n",
    "end"
   ]
  },
  {
   "cell_type": "code",
   "execution_count": null,
   "metadata": {
    "collapsed": true
   },
   "outputs": [],
   "source": [
    "### Extract an N point random sample from the sediment thickness DSM:\n",
    "\n",
    "## There are 180507 original data points in Region 03, take an arbitrary 10%: 18,500 random points for further exploration:\n",
    "r.random --overwrite input=Crust_Sed_Thkness_1km@user npoints=18500 vector=SedThkness_region03_18500randpts_xyz@user"
   ]
  },
  {
   "cell_type": "code",
   "execution_count": null,
   "metadata": {
    "collapsed": true
   },
   "outputs": [],
   "source": [
    "### Add water depths to the sediment thickness [random] sample data set:\n",
    "\n",
    "v.what.rast map=SedThkness_region03_18500randpts_xyz@user raster=ETOPO1_bathy_1km@user column=depth"
   ]
  },
  {
   "cell_type": "code",
   "execution_count": null,
   "metadata": {
    "collapsed": true
   },
   "outputs": [],
   "source": [
    "### export these 18500 random points to an ESRI shape file:\n",
    "v.out.ogr -e --overwrite input=SedThkness_region03_18500randpts_xyz@user output=/Users/paulp/sedthkness format=ESRI_Shapefile output_layer=SedThkness_region03_18500randpts_xyz"
   ]
  }
 ],
 "metadata": {
  "anaconda-cloud": {},
  "kernelspec": {
   "display_name": "Python [default]",
   "language": "python",
   "name": "python3"
  },
  "language_info": {
   "codemirror_mode": {
    "name": "ipython",
    "version": 3
   },
   "file_extension": ".py",
   "mimetype": "text/x-python",
   "name": "python",
   "nbconvert_exporter": "python",
   "pygments_lexer": "ipython3",
   "version": "3.5.2"
  },
  "toc": {
   "nav_menu": {
    "height": "12px",
    "width": "252px"
   },
   "navigate_menu": true,
   "number_sections": true,
   "sideBar": true,
   "threshold": 4,
   "toc_cell": false,
   "toc_section_display": "block",
   "toc_window_display": false
  }
 },
 "nbformat": 4,
 "nbformat_minor": 1
}
